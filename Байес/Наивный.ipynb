{
 "cells": [
  {
   "cell_type": "code",
   "execution_count": 201,
   "metadata": {},
   "outputs": [],
   "source": [
    "import re\n",
    "import numpy as np\n",
    "import pandas as pd\n",
    "from sklearn.model_selection import cross_val_score \n",
    "from sklearn.naive_bayes import MultinomialNB\n",
    "from __future__ import division\n",
    "from collections import defaultdict\n",
    "from math import log\n",
    "from sklearn.model_selection import KFold\n",
    "from sklearn.feature_extraction.text import TfidfVectorizer\n",
    "from sklearn.pipeline import Pipeline"
   ]
  },
  {
   "cell_type": "code",
   "execution_count": 144,
   "metadata": {},
   "outputs": [],
   "source": [
    "class Bayes:\n",
    "    \n",
    "    def __init__(self):\n",
    "        self._classes = None\n",
    "        self._freq = None\n",
    "    \n",
    "    def fit(self, samples):\n",
    "        classes, freq = defaultdict(lambda:0), defaultdict(lambda:0)\n",
    "        for feats, label in samples:\n",
    "            classes[label] += 1         \n",
    "            for feat in feats:\n",
    "                freq[label, feat] += 1          \n",
    "\n",
    "        for label, feat in freq:                \n",
    "            freq[label, feat] /= classes[label]\n",
    "        for c in classes:                       \n",
    "            classes[c] /= len(samples)\n",
    "\n",
    "        self._classes = classes\n",
    "        self._freq = freq\n",
    "    \n",
    "    def predict(self, feats): \n",
    "        return min(self._classes.keys(),              \n",
    "            key = lambda cl: -log(self._classes[cl]) + \\\n",
    "                sum(-log(self._freq.get((cl,feat), 10**(-7))) for feat in feats))\n",
    "    \n",
    "    def cross_val(self, values,n=5):\n",
    "        lol = lambda lst, sz: [lst[i:i+sz] for i in range(0, len(lst), sz)]\n",
    "        val = lol(values,round(len(values)/n))\n",
    "        accuracy, f1  = [], []\n",
    "        for i in range(n):\n",
    "            \n",
    "            train_val = []\n",
    "            for j in range(n):\n",
    "                if j!=i:\n",
    "                    train_val += val[j]\n",
    "            self.fit(train_val)\n",
    "            output = []\n",
    "            check = [] \n",
    "            for l in range(len(val[i])):\n",
    "                output.append(self.predict(val[i][l][0]))\n",
    "                check.append(val[i][l][1])   \n",
    "            output, check = np.array(output), np.array(check)   \n",
    "\n",
    "            f1.append(f1_score(check,output, average='macro'))\n",
    "            accuracy.append(accuracy_score(check,output))\n",
    "        print('Accurace_score: {}'.format(accuracy))\n",
    "        print('f1_score: {}'.format(f1))\n"
   ]
  },
  {
   "cell_type": "code",
   "execution_count": 202,
   "metadata": {},
   "outputs": [
    {
     "data": {
      "text/html": [
       "<div>\n",
       "<style scoped>\n",
       "    .dataframe tbody tr th:only-of-type {\n",
       "        vertical-align: middle;\n",
       "    }\n",
       "\n",
       "    .dataframe tbody tr th {\n",
       "        vertical-align: top;\n",
       "    }\n",
       "\n",
       "    .dataframe thead th {\n",
       "        text-align: right;\n",
       "    }\n",
       "</style>\n",
       "<table border=\"1\" class=\"dataframe\">\n",
       "  <thead>\n",
       "    <tr style=\"text-align: right;\">\n",
       "      <th></th>\n",
       "      <th>label</th>\n",
       "      <th>message</th>\n",
       "    </tr>\n",
       "  </thead>\n",
       "  <tbody>\n",
       "    <tr>\n",
       "      <th>0</th>\n",
       "      <td>ham</td>\n",
       "      <td>Go until jurong point, crazy.. Available only ...</td>\n",
       "    </tr>\n",
       "    <tr>\n",
       "      <th>1</th>\n",
       "      <td>ham</td>\n",
       "      <td>Ok lar... Joking wif u oni...</td>\n",
       "    </tr>\n",
       "    <tr>\n",
       "      <th>2</th>\n",
       "      <td>spam</td>\n",
       "      <td>Free entry in 2 a wkly comp to win FA Cup fina...</td>\n",
       "    </tr>\n",
       "    <tr>\n",
       "      <th>3</th>\n",
       "      <td>ham</td>\n",
       "      <td>U dun say so early hor... U c already then say...</td>\n",
       "    </tr>\n",
       "    <tr>\n",
       "      <th>4</th>\n",
       "      <td>ham</td>\n",
       "      <td>Nah I don't think he goes to usf, he lives aro...</td>\n",
       "    </tr>\n",
       "  </tbody>\n",
       "</table>\n",
       "</div>"
      ],
      "text/plain": [
       "  label                                            message\n",
       "0   ham  Go until jurong point, crazy.. Available only ...\n",
       "1   ham                      Ok lar... Joking wif u oni...\n",
       "2  spam  Free entry in 2 a wkly comp to win FA Cup fina...\n",
       "3   ham  U dun say so early hor... U c already then say...\n",
       "4   ham  Nah I don't think he goes to usf, he lives aro..."
      ]
     },
     "execution_count": 202,
     "metadata": {},
     "output_type": "execute_result"
    }
   ],
   "source": [
    "df=pd.read_table('SMSSpamCollection',header=None)\n",
    "df.rename(columns = {0: 'label', 1: 'message'}, inplace = True)\n",
    "df.head()"
   ]
  },
  {
   "cell_type": "code",
   "execution_count": 204,
   "metadata": {},
   "outputs": [],
   "source": [
    "samples = []\n",
    "for i in range(df.shape[0]):\n",
    "    samples.append((re.findall(r\"[\\w']+\",  df['message'][i]),df['label'][i]))"
   ]
  },
  {
   "cell_type": "code",
   "execution_count": 209,
   "metadata": {},
   "outputs": [
    {
     "name": "stdout",
     "output_type": "stream",
     "text": [
      "Accurace_score: [0.981149012567325, 0.9883303411131059, 0.9856373429084381, 0.9757630161579892, 0.9847396768402155]\n",
      "f1_score: [0.9634680521135405, 0.9740031270924323, 0.9664982557440154, 0.9492757655939329, 0.966204532354458]\n"
     ]
    }
   ],
   "source": [
    "A = Bayes()\n",
    "A.cross_val(samples)"
   ]
  },
  {
   "cell_type": "code",
   "execution_count": 221,
   "metadata": {},
   "outputs": [
    {
     "data": {
      "text/plain": [
       "array([0.96143498, 0.95515695, 0.95780969, 0.9551167 , 0.96050269])"
      ]
     },
     "execution_count": 221,
     "metadata": {},
     "output_type": "execute_result"
    }
   ],
   "source": [
    "train = df.loc[np.array([i for i in range(df.shape[0])])]\n",
    "train.reset_index(inplace=True)\n",
    "train.drop(['index'],axis=1,inplace=True)\n",
    "\n",
    "clf = MultinomialNB()\n",
    "clf=Pipeline([('tfidf', TfidfVectorizer()), ('clf', MultinomialNB())])\n",
    "\n",
    "cross_val_score(clf,train['message'],train['label'], cv=5)"
   ]
  },
  {
   "cell_type": "code",
   "execution_count": null,
   "metadata": {},
   "outputs": [],
   "source": []
  },
  {
   "cell_type": "code",
   "execution_count": null,
   "metadata": {},
   "outputs": [],
   "source": []
  },
  {
   "cell_type": "code",
   "execution_count": null,
   "metadata": {},
   "outputs": [],
   "source": []
  }
 ],
 "metadata": {
  "kernelspec": {
   "display_name": "Python 3",
   "language": "python",
   "name": "python3"
  },
  "language_info": {
   "codemirror_mode": {
    "name": "ipython",
    "version": 3
   },
   "file_extension": ".py",
   "mimetype": "text/x-python",
   "name": "python",
   "nbconvert_exporter": "python",
   "pygments_lexer": "ipython3",
   "version": "3.7.1"
  }
 },
 "nbformat": 4,
 "nbformat_minor": 2
}
