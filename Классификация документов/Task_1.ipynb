{
 "cells": [
  {
   "cell_type": "markdown",
   "metadata": {},
   "source": [
    "# Задание 1\n",
    "\n",
    "[Свертка списка](https://ru.wikipedia.org/wiki/%D0%A1%D0%B2%D1%91%D1%80%D1%82%D0%BA%D0%B0_%D1%81%D0%BF%D0%B8%D1%81%D0%BA%D0%B0) -  это обобщенная операция над списком, c помощью которой можно преобразовать список в единое значение. Например, рассмотрим реализации свертки слева и свертки справа (левоассоциативную свертку и правоассоциативную свертку):"
   ]
  },
  {
   "cell_type": "code",
   "execution_count": 1,
   "metadata": {},
   "outputs": [],
   "source": [
    "def foldl(f, x0, lst):\n",
    "    if not lst:\n",
    "        return x0\n",
    "    return foldl(f, f(x0, lst[0]), lst[1:])\n",
    "\n",
    "def foldr(f, x0, lst):\n",
    "    if not lst:\n",
    "        return x0\n",
    "    return f(lst[0], foldr(f, x0, lst[1:]))"
   ]
  },
  {
   "cell_type": "code",
   "execution_count": 2,
   "metadata": {},
   "outputs": [
    {
     "data": {
      "text/plain": [
       "6"
      ]
     },
     "execution_count": 2,
     "metadata": {},
     "output_type": "execute_result"
    }
   ],
   "source": [
    "#сумма\n",
    "foldl(lambda x, y: x + y, 0, [1, 2, 3])"
   ]
  },
  {
   "cell_type": "code",
   "execution_count": 3,
   "metadata": {},
   "outputs": [
    {
     "data": {
      "text/plain": [
       "'123'"
      ]
     },
     "execution_count": 3,
     "metadata": {},
     "output_type": "execute_result"
    }
   ],
   "source": [
    "#конкатенация\n",
    "foldl(lambda x, y: '{}{}'.format(x, y), '', [1, 2, 3])"
   ]
  },
  {
   "cell_type": "code",
   "execution_count": 4,
   "metadata": {},
   "outputs": [
    {
     "data": {
      "text/plain": [
       "(0.16666666666666666, 1.5)"
      ]
     },
     "execution_count": 4,
     "metadata": {},
     "output_type": "execute_result"
    }
   ],
   "source": [
    "f = lambda x, y: x / y\n",
    "foldl(f, 1, [1, 2, 3]), \\\n",
    "foldr(f, 1, [1, 2, 3])"
   ]
  },
  {
   "cell_type": "markdown",
   "metadata": {},
   "source": [
    "Задача: реализовать foldl через foldr и наоборот. Вместо многоточий нужно вставить выражения, которые бы привели к нужному результату."
   ]
  },
  {
   "cell_type": "code",
   "execution_count": 5,
   "metadata": {},
   "outputs": [],
   "source": [
    "base = lambda x: x\n",
    "def foldl2(f, x0, lst):\n",
    "    def foo(val_lst, acc):\n",
    "        def new_f(n):\n",
    "            return acc(f(n,val_lst))\n",
    "        return new_f\n",
    "    return foldr(foo, base, lst)(x0)"
   ]
  },
  {
   "cell_type": "code",
   "execution_count": 6,
   "metadata": {},
   "outputs": [],
   "source": [
    "base = lambda x: x\n",
    "def foldr2(f, x0, lst):\n",
    "    def foo(acc, val_lst):\n",
    "        def new_f(n):\n",
    "            return acc(f(val_lst, n))\n",
    "        return new_f\n",
    "    return foldl(foo, base, lst)(x0)"
   ]
  },
  {
   "cell_type": "code",
   "execution_count": 7,
   "metadata": {},
   "outputs": [
    {
     "data": {
      "text/plain": [
       "(0.16666666666666666, 1.5)"
      ]
     },
     "execution_count": 7,
     "metadata": {},
     "output_type": "execute_result"
    }
   ],
   "source": [
    "f = lambda x, y: x / y\n",
    "foldl2(f, 1, [1, 2, 3]), \\\n",
    "foldr2(f, 1, [1, 2, 3])"
   ]
  },
  {
   "cell_type": "code",
   "execution_count": 8,
   "metadata": {},
   "outputs": [
    {
     "data": {
      "text/plain": [
       "(6, 6)"
      ]
     },
     "execution_count": 8,
     "metadata": {},
     "output_type": "execute_result"
    }
   ],
   "source": [
    "foldl2(lambda x, y: x + y, 0, [1, 2, 3]), \\\n",
    "foldr2(lambda x, y: x + y, 0, [1, 2, 3])"
   ]
  },
  {
   "cell_type": "code",
   "execution_count": 9,
   "metadata": {},
   "outputs": [
    {
     "data": {
      "text/plain": [
       "('123', '123')"
      ]
     },
     "execution_count": 9,
     "metadata": {},
     "output_type": "execute_result"
    }
   ],
   "source": [
    "foldl2(lambda x, y: '{}{}'.format(x, y), '', [1, 2, 3]), \\\n",
    "foldr2(lambda x, y: '{}{}'.format(x, y), '', [1, 2, 3])"
   ]
  },
  {
   "cell_type": "markdown",
   "metadata": {},
   "source": [
    "# Задание 2\n",
    "\n",
    "нужно написать функцию, которая принимает две строки и проверяет, входит ли хотя бы одна перестановка второй строки в первую. Например:\n",
    "\n",
    "> a = 'abcrotm'\n",
    "> \n",
    "> b = 'tro'\n",
    "\n",
    "функция def check_inv(a, b) вернет True, так как 'rot' содержится в 'abcrotm'. Нужно подумать как можно более оптимальный алгоритм и оценить его сложность. "
   ]
  },
  {
   "cell_type": "code",
   "execution_count": 10,
   "metadata": {},
   "outputs": [],
   "source": [
    "def do_map(string):\n",
    "    my_dict = dict()\n",
    "    for i in range(len(string)):\n",
    "        if string[i] in list(my_dict.keys()):\n",
    "            my_dict[string[i]] += 1\n",
    "        else:\n",
    "            my_dict[string[i]] = 1\n",
    "    return my_dict\n",
    "\n",
    "\n",
    "\n",
    "def check_inv(a, b):\n",
    "    if (len(a) >= len(b)):\n",
    "        flag = False\n",
    "        b_map = do_map(b)\n",
    "        for i in range(len(a)-len(b)+1):\n",
    "            if do_map(a[i:i+len(b)]) == b_map:\n",
    "                flag = True\n",
    "                break\n",
    "        return flag\n",
    "    else:\n",
    "        return False"
   ]
  },
  {
   "cell_type": "code",
   "execution_count": 11,
   "metadata": {},
   "outputs": [],
   "source": [
    "a = 'abcrotm'\n",
    "b = 'bacrot'"
   ]
  },
  {
   "cell_type": "code",
   "execution_count": 12,
   "metadata": {},
   "outputs": [
    {
     "data": {
      "text/plain": [
       "True"
      ]
     },
     "execution_count": 12,
     "metadata": {},
     "output_type": "execute_result"
    }
   ],
   "source": [
    "check_inv(a,b)"
   ]
  },
  {
   "cell_type": "markdown",
   "metadata": {},
   "source": [
    "### Сложность O((n-m)*m)"
   ]
  },
  {
   "cell_type": "markdown",
   "metadata": {},
   "source": [
    "# Задание 3\n",
    "\n",
    "Реализовать бинарное дерево (класс Tree), в нём методы __repr__, __str__, __iter__ (итерация только по листьям)."
   ]
  },
  {
   "cell_type": "code",
   "execution_count": 13,
   "metadata": {},
   "outputs": [
    {
     "data": {
      "text/plain": [
       "('Tree(0, Tree(1, Tree(3), Tree(4)), Tree(2))', '0, 1, 3, 4, 2')"
      ]
     },
     "execution_count": 13,
     "metadata": {},
     "output_type": "execute_result"
    }
   ],
   "source": [
    "class Tree:\n",
    "    def __init__(self, value=None, left=None, right=None):\n",
    "        self.left = left\n",
    "        self.right = right\n",
    "        self.value = value\n",
    "        \n",
    "    def __iter__(self):\n",
    "        if self.left:\n",
    "            yield from self.left\n",
    "        if not self.left and not self.right:\n",
    "            yield self.value\n",
    "        if self.right:\n",
    "            yield from self.right\n",
    "    \n",
    "    def __str__(self):\n",
    "        return '{}, {}, {}'.format(\n",
    "          str(self.value),\n",
    "          str(self.left),\n",
    "          str(self.right)).replace(', None, None', '').replace(', None', '')\n",
    "    \n",
    "    def __repr__(self):\n",
    "        return '{}({}, {}, {})'.format(self.__class__.__name__,\n",
    "          repr(self.value),\n",
    "          repr(self.left),\n",
    "          repr(self.right)) \\\n",
    "               .replace(', None, None)', ')') \\\n",
    "               .replace(', None)', ')')\n",
    "    \n",
    "tree = Tree(0, Tree(1, Tree(3), Tree(4)),                             \n",
    "               Tree(2))\n",
    "\n",
    "list(tree) == [3, 4, 2]\n",
    "tree.__repr__(),\\\n",
    "tree.__str__(),\n"
   ]
  },
  {
   "cell_type": "markdown",
   "metadata": {},
   "source": [
    "# Задание 4\n",
    "\n",
    "Реализовать простейший калькулятор математических выражений:\n",
    "- только целые числа\n",
    "- **+**, **\\-**, **\\***, **\\**\n",
    "- скобки\n",
    "\n",
    "**Можно использовать регулярные выражения**"
   ]
  },
  {
   "cell_type": "code",
   "execution_count": 14,
   "metadata": {},
   "outputs": [],
   "source": [
    "oper = {\n",
    "             '+': (1, lambda x, y: x + y),\n",
    "             '-': (1, lambda x, y: x - y),\n",
    "             '*': (2, lambda x, y: x * y),\n",
    "             '/': (2, lambda x, y: x / y)\n",
    "}\n",
    "\n"
   ]
  },
  {
   "cell_type": "code",
   "execution_count": 15,
   "metadata": {},
   "outputs": [],
   "source": [
    "\n",
    "def get_simbol(s):\n",
    "    num = ''\n",
    "    for i in s:\n",
    "        if i in '0123456789':\n",
    "            num += i\n",
    "        elif num:\n",
    "            yield float(num)\n",
    "            num = ''\n",
    "        if (i in oper) or (i in \"()\"):\n",
    "            yield i\n",
    "    if num:\n",
    "        yield float(num)\n"
   ]
  },
  {
   "cell_type": "code",
   "execution_count": 16,
   "metadata": {},
   "outputs": [],
   "source": [
    "def change(var):\n",
    "    stack = []\n",
    "    for sm in var:\n",
    "        if sm in oper:\n",
    "            while (stack) and (stack[-1] != \"(\") and (oper[sm][0] <= oper[stack[-1]][0]):\n",
    "                yield stack.pop()\n",
    "            stack.append(sm)\n",
    "        elif sm == \")\":\n",
    "            while stack:\n",
    "                x = stack.pop()\n",
    "                if x == \"(\":\n",
    "                    break\n",
    "                yield x\n",
    "        elif sm == \"(\":\n",
    "            stack.append(sm)\n",
    "        else:\n",
    "            yield sm\n",
    "    while stack:\n",
    "        yield stack.pop()\n"
   ]
  },
  {
   "cell_type": "code",
   "execution_count": 17,
   "metadata": {},
   "outputs": [],
   "source": [
    "def calc(ex):\n",
    "    x = get_simbol(ex)\n",
    "    pol = change(x)\n",
    "    stack = []\n",
    "    for sm in pol:\n",
    "        if sm in oper:\n",
    "            a = stack.pop()\n",
    "            b = stack.pop()\n",
    "            stack.append(oper[sm][1](b, a))\n",
    "        else:\n",
    "            stack.append(sm)\n",
    "    return stack[0]"
   ]
  },
  {
   "cell_type": "code",
   "execution_count": 18,
   "metadata": {},
   "outputs": [],
   "source": [
    "a = '2 * (15 - 3 * 4) - 2'"
   ]
  },
  {
   "cell_type": "code",
   "execution_count": 19,
   "metadata": {},
   "outputs": [
    {
     "data": {
      "text/plain": [
       "4.0"
      ]
     },
     "execution_count": 19,
     "metadata": {},
     "output_type": "execute_result"
    }
   ],
   "source": [
    "calc(a)"
   ]
  },
  {
   "cell_type": "code",
   "execution_count": 20,
   "metadata": {},
   "outputs": [],
   "source": [
    "b = '(1 + 3 * 4) * 3 / 2'"
   ]
  },
  {
   "cell_type": "code",
   "execution_count": 21,
   "metadata": {},
   "outputs": [
    {
     "data": {
      "text/plain": [
       "19.5"
      ]
     },
     "execution_count": 21,
     "metadata": {},
     "output_type": "execute_result"
    }
   ],
   "source": [
    "calc(b)"
   ]
  },
  {
   "cell_type": "code",
   "execution_count": null,
   "metadata": {},
   "outputs": [],
   "source": []
  }
 ],
 "metadata": {
  "kernelspec": {
   "display_name": "Python 3",
   "language": "python",
   "name": "python3"
  },
  "language_info": {
   "codemirror_mode": {
    "name": "ipython",
    "version": 3
   },
   "file_extension": ".py",
   "mimetype": "text/x-python",
   "name": "python",
   "nbconvert_exporter": "python",
   "pygments_lexer": "ipython3",
   "version": "3.7.3"
  }
 },
 "nbformat": 4,
 "nbformat_minor": 2
}
