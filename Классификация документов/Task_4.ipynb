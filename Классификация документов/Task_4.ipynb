{
 "cells": [
  {
   "cell_type": "markdown",
   "metadata": {},
   "source": [
    "### Часть 2\n",
    "Используя скаченные данные и `Pandas` (или `PySpark`) посчитайте:\n",
    "- явку (%) по всем ТИК, результат отсортировать по убыванию\n",
    "- выберите произвольного кандидата и найдите тот избиратльный участок, на котором он получил наибольший результат  (%, учитывать участки на которых проголосовало больше 100 человек)\n",
    "- найдите ТИК, где разница между УИК с наибольшей явкой и наименьшей максимальна\n",
    "- посчитайте дисперсию по явке для каждого ТИК (учитывать УИК)\n",
    "- для каждого кандидата посчитайте таблицу: результат (%, округленный до целого) - количество УИК, на которых кандидат получил данный результат\n",
    "- визуализируйте отношение - явка на УИК $\\rightarrow$ результат кандидата. "
   ]
  },
  {
   "cell_type": "code",
   "execution_count": 23,
   "metadata": {},
   "outputs": [],
   "source": [
    "import pandas as pd"
   ]
  },
  {
   "cell_type": "code",
   "execution_count": 27,
   "metadata": {},
   "outputs": [],
   "source": [
    "df = pd.read_csv('Data_of_election.csv')\n",
    "df['turnout'] = (df['num_place'] + df['num_outplace']) / df['num_end'] * 100\n",
    "df['Amosov_share'] = df['Amosov'] / (df['num_valid'] + df['num_invalid']) * 100\n",
    "df['Beglov_share'] = df['Beglov'] / (df['num_valid'] + df['num_invalid']) * 100\n",
    "df['Tihonova_share'] = df['Tihonova'] / (df['num_valid'] + df['num_invalid']) * 100"
   ]
  },
  {
   "cell_type": "code",
   "execution_count": 28,
   "metadata": {},
   "outputs": [
    {
     "data": {
      "text/html": [
       "<div>\n",
       "<style scoped>\n",
       "    .dataframe tbody tr th:only-of-type {\n",
       "        vertical-align: middle;\n",
       "    }\n",
       "\n",
       "    .dataframe tbody tr th {\n",
       "        vertical-align: top;\n",
       "    }\n",
       "\n",
       "    .dataframe thead th {\n",
       "        text-align: right;\n",
       "    }\n",
       "</style>\n",
       "<table border=\"1\" class=\"dataframe\">\n",
       "  <thead>\n",
       "    <tr style=\"text-align: right;\">\n",
       "      <th></th>\n",
       "      <th>Unnamed: 0</th>\n",
       "      <th>tic</th>\n",
       "      <th>uik</th>\n",
       "      <th>num_end</th>\n",
       "      <th>num_get</th>\n",
       "      <th>num_place</th>\n",
       "      <th>num_outplace</th>\n",
       "      <th>num_extinguish</th>\n",
       "      <th>num_portable</th>\n",
       "      <th>num_stationary</th>\n",
       "      <th>...</th>\n",
       "      <th>num_valid</th>\n",
       "      <th>num_lose</th>\n",
       "      <th>num_unaccounted</th>\n",
       "      <th>Amosov</th>\n",
       "      <th>Beglov</th>\n",
       "      <th>Tihonova</th>\n",
       "      <th>turnout</th>\n",
       "      <th>Amosov_share</th>\n",
       "      <th>Beglov_share</th>\n",
       "      <th>Tihonova_share</th>\n",
       "    </tr>\n",
       "  </thead>\n",
       "  <tbody>\n",
       "    <tr>\n",
       "      <th>0</th>\n",
       "      <td>0</td>\n",
       "      <td>tec1</td>\n",
       "      <td>uik1</td>\n",
       "      <td>1803</td>\n",
       "      <td>1200</td>\n",
       "      <td>587</td>\n",
       "      <td>11</td>\n",
       "      <td>602</td>\n",
       "      <td>11</td>\n",
       "      <td>587</td>\n",
       "      <td>...</td>\n",
       "      <td>575</td>\n",
       "      <td>0</td>\n",
       "      <td>0</td>\n",
       "      <td>110</td>\n",
       "      <td>345</td>\n",
       "      <td>120</td>\n",
       "      <td>33.166944</td>\n",
       "      <td>18.394649</td>\n",
       "      <td>57.692308</td>\n",
       "      <td>20.066890</td>\n",
       "    </tr>\n",
       "    <tr>\n",
       "      <th>1</th>\n",
       "      <td>1</td>\n",
       "      <td>tec1</td>\n",
       "      <td>uik2</td>\n",
       "      <td>1466</td>\n",
       "      <td>1100</td>\n",
       "      <td>433</td>\n",
       "      <td>14</td>\n",
       "      <td>653</td>\n",
       "      <td>14</td>\n",
       "      <td>430</td>\n",
       "      <td>...</td>\n",
       "      <td>425</td>\n",
       "      <td>0</td>\n",
       "      <td>0</td>\n",
       "      <td>53</td>\n",
       "      <td>326</td>\n",
       "      <td>46</td>\n",
       "      <td>30.491132</td>\n",
       "      <td>11.936937</td>\n",
       "      <td>73.423423</td>\n",
       "      <td>10.360360</td>\n",
       "    </tr>\n",
       "    <tr>\n",
       "      <th>2</th>\n",
       "      <td>2</td>\n",
       "      <td>tec1</td>\n",
       "      <td>uik3</td>\n",
       "      <td>2092</td>\n",
       "      <td>1600</td>\n",
       "      <td>576</td>\n",
       "      <td>22</td>\n",
       "      <td>1002</td>\n",
       "      <td>22</td>\n",
       "      <td>576</td>\n",
       "      <td>...</td>\n",
       "      <td>583</td>\n",
       "      <td>0</td>\n",
       "      <td>0</td>\n",
       "      <td>155</td>\n",
       "      <td>332</td>\n",
       "      <td>96</td>\n",
       "      <td>28.585086</td>\n",
       "      <td>25.919732</td>\n",
       "      <td>55.518395</td>\n",
       "      <td>16.053512</td>\n",
       "    </tr>\n",
       "    <tr>\n",
       "      <th>3</th>\n",
       "      <td>3</td>\n",
       "      <td>tec1</td>\n",
       "      <td>uik4</td>\n",
       "      <td>1056</td>\n",
       "      <td>1000</td>\n",
       "      <td>318</td>\n",
       "      <td>4</td>\n",
       "      <td>678</td>\n",
       "      <td>4</td>\n",
       "      <td>318</td>\n",
       "      <td>...</td>\n",
       "      <td>309</td>\n",
       "      <td>0</td>\n",
       "      <td>0</td>\n",
       "      <td>67</td>\n",
       "      <td>171</td>\n",
       "      <td>71</td>\n",
       "      <td>30.492424</td>\n",
       "      <td>20.807453</td>\n",
       "      <td>53.105590</td>\n",
       "      <td>22.049689</td>\n",
       "    </tr>\n",
       "    <tr>\n",
       "      <th>4</th>\n",
       "      <td>4</td>\n",
       "      <td>tec1</td>\n",
       "      <td>uik5</td>\n",
       "      <td>1827</td>\n",
       "      <td>1400</td>\n",
       "      <td>495</td>\n",
       "      <td>8</td>\n",
       "      <td>897</td>\n",
       "      <td>8</td>\n",
       "      <td>493</td>\n",
       "      <td>...</td>\n",
       "      <td>485</td>\n",
       "      <td>0</td>\n",
       "      <td>0</td>\n",
       "      <td>137</td>\n",
       "      <td>266</td>\n",
       "      <td>82</td>\n",
       "      <td>27.531472</td>\n",
       "      <td>27.345309</td>\n",
       "      <td>53.093812</td>\n",
       "      <td>16.367265</td>\n",
       "    </tr>\n",
       "  </tbody>\n",
       "</table>\n",
       "<p>5 rows × 21 columns</p>\n",
       "</div>"
      ],
      "text/plain": [
       "   Unnamed: 0   tic   uik  num_end  num_get  num_place  num_outplace  \\\n",
       "0           0  tec1  uik1     1803     1200        587            11   \n",
       "1           1  tec1  uik2     1466     1100        433            14   \n",
       "2           2  tec1  uik3     2092     1600        576            22   \n",
       "3           3  tec1  uik4     1056     1000        318             4   \n",
       "4           4  tec1  uik5     1827     1400        495             8   \n",
       "\n",
       "   num_extinguish  num_portable  num_stationary  ...  num_valid  num_lose  \\\n",
       "0             602            11             587  ...        575         0   \n",
       "1             653            14             430  ...        425         0   \n",
       "2            1002            22             576  ...        583         0   \n",
       "3             678             4             318  ...        309         0   \n",
       "4             897             8             493  ...        485         0   \n",
       "\n",
       "   num_unaccounted  Amosov  Beglov  Tihonova    turnout  Amosov_share  \\\n",
       "0                0     110     345       120  33.166944     18.394649   \n",
       "1                0      53     326        46  30.491132     11.936937   \n",
       "2                0     155     332        96  28.585086     25.919732   \n",
       "3                0      67     171        71  30.492424     20.807453   \n",
       "4                0     137     266        82  27.531472     27.345309   \n",
       "\n",
       "   Beglov_share  Tihonova_share  \n",
       "0     57.692308       20.066890  \n",
       "1     73.423423       10.360360  \n",
       "2     55.518395       16.053512  \n",
       "3     53.105590       22.049689  \n",
       "4     53.093812       16.367265  \n",
       "\n",
       "[5 rows x 21 columns]"
      ]
     },
     "execution_count": 28,
     "metadata": {},
     "output_type": "execute_result"
    }
   ],
   "source": [
    "df.head()"
   ]
  },
  {
   "cell_type": "markdown",
   "metadata": {},
   "source": [
    "# 1) Явка"
   ]
  },
  {
   "cell_type": "code",
   "execution_count": 29,
   "metadata": {},
   "outputs": [
    {
     "data": {
      "text/plain": [
       "tic\n",
       "dec      75.140187\n",
       "tec18    51.531228\n",
       "tec15    40.013072\n",
       "tec13    39.672610\n",
       "tec19    37.812382\n",
       "tec8     36.040981\n",
       "tec20    33.780554\n",
       "tec9     33.521975\n",
       "tec22    32.486297\n",
       "tec30    32.102011\n",
       "tec2     31.787913\n",
       "tec1     31.483272\n",
       "tec29    30.770507\n",
       "tec10    30.517413\n",
       "tec4     30.431840\n",
       "tec7     29.254120\n",
       "tec21    29.138204\n",
       "tec25    29.020921\n",
       "tec17    28.440004\n",
       "tec23    28.193842\n",
       "tec16    28.191436\n",
       "tec14    27.522452\n",
       "tec28    27.224589\n",
       "tec11    26.877083\n",
       "tec5     26.753819\n",
       "tec24    26.653968\n",
       "tec3     26.620459\n",
       "tec12    26.410227\n",
       "tec26    26.264800\n",
       "tec6     25.008379\n",
       "tec27    24.792315\n",
       "dtype: float64"
      ]
     },
     "execution_count": 29,
     "metadata": {},
     "output_type": "execute_result"
    }
   ],
   "source": [
    "df_sum = df.groupby('tic').sum()\n",
    "turnout_series = ((df_sum['num_place'] + df_sum['num_outplace']) / \n",
    "                  df_sum['num_end'] * 100).sort_values(ascending=False)\n",
    "turnout_series"
   ]
  },
  {
   "cell_type": "markdown",
   "metadata": {},
   "source": [
    "# 2) выберите произвольного кандидата и найдите тот избиратльный участок, на котором он получил наибольший результат (%, учитывать участки на которых проголосовало больше 100 человек)"
   ]
  },
  {
   "cell_type": "code",
   "execution_count": 30,
   "metadata": {},
   "outputs": [
    {
     "data": {
      "text/plain": [
       "Unnamed: 0            1085\n",
       "tic                  tec17\n",
       "uik                 uik567\n",
       "num_end               2206\n",
       "num_get               2000\n",
       "num_place              635\n",
       "num_outplace             8\n",
       "num_extinguish        1357\n",
       "num_portable             8\n",
       "num_stationary         635\n",
       "num_invalid             25\n",
       "num_valid              618\n",
       "num_lose                 0\n",
       "num_unaccounted          0\n",
       "Amosov                 267\n",
       "Beglov                 284\n",
       "Tihonova                67\n",
       "turnout            29.1478\n",
       "Amosov_share       41.5241\n",
       "Beglov_share        44.168\n",
       "Tihonova_share     10.4199\n",
       "Name: 1085, dtype: object"
      ]
     },
     "execution_count": 30,
     "metadata": {},
     "output_type": "execute_result"
    }
   ],
   "source": [
    "df_more_100 = df[df['num_place'] + df['num_outplace'] > 100]\n",
    "df.loc[df_more_100['Amosov'].idxmax()]"
   ]
  },
  {
   "cell_type": "markdown",
   "metadata": {},
   "source": [
    "# 3) найдите ТИК, где разница между УИК с наибольшей явкой и наименьшей максимальна"
   ]
  },
  {
   "cell_type": "code",
   "execution_count": 31,
   "metadata": {},
   "outputs": [
    {
     "data": {
      "text/plain": [
       "'tec17'"
      ]
     },
     "execution_count": 31,
     "metadata": {},
     "output_type": "execute_result"
    }
   ],
   "source": [
    "df_scatter = df.iloc[list(df.groupby('tic')['turnout'].idxmax())].set_index('tic')['turnout'] - \\\n",
    "                df.iloc[list(df.groupby('tic')['turnout'].idxmin())].set_index('tic')['turnout']\n",
    "\n",
    "df_scatter.idxmax()"
   ]
  },
  {
   "cell_type": "markdown",
   "metadata": {},
   "source": [
    "# 4) посчитайте дисперсию по явке для каждого ТИК (учитывать УИК)"
   ]
  },
  {
   "cell_type": "code",
   "execution_count": 32,
   "metadata": {},
   "outputs": [
    {
     "data": {
      "text/plain": [
       "tic\n",
       "tec25     3.029272\n",
       "tec6      4.545741\n",
       "tec14     5.543703\n",
       "tec12     5.763336\n",
       "tec7      8.432388\n",
       "tec10     8.607301\n",
       "tec3      8.610396\n",
       "tec16    10.652375\n",
       "tec9     10.905473\n",
       "tec5     11.688594\n",
       "tec20    13.174654\n",
       "tec1     13.899090\n",
       "tec19    14.307206\n",
       "tec27    14.364214\n",
       "tec26    14.827287\n",
       "tec4     14.926802\n",
       "tec18    15.188345\n",
       "tec11    15.474099\n",
       "tec29    15.632908\n",
       "tec8     16.119666\n",
       "tec24    16.466036\n",
       "tec21    17.612285\n",
       "tec17    18.147185\n",
       "tec28    19.800772\n",
       "tec13    19.836722\n",
       "tec15    20.398333\n",
       "tec22    21.214221\n",
       "tec2     21.451792\n",
       "tec30    22.820543\n",
       "tec23    24.221904\n",
       "dec            NaN\n",
       "Name: turnout, dtype: float64"
      ]
     },
     "execution_count": 32,
     "metadata": {},
     "output_type": "execute_result"
    }
   ],
   "source": [
    "df.groupby('tic')['turnout'].std().sort_values()"
   ]
  },
  {
   "cell_type": "markdown",
   "metadata": {},
   "source": [
    "# 5) для каждого кандидата посчитайте таблицу: результат (%, округленный до целого) - количество УИК, на которых кандидат получил данный результат"
   ]
  },
  {
   "cell_type": "code",
   "execution_count": 34,
   "metadata": {},
   "outputs": [
    {
     "data": {
      "text/html": [
       "<div>\n",
       "<style scoped>\n",
       "    .dataframe tbody tr th:only-of-type {\n",
       "        vertical-align: middle;\n",
       "    }\n",
       "\n",
       "    .dataframe tbody tr th {\n",
       "        vertical-align: top;\n",
       "    }\n",
       "\n",
       "    .dataframe thead th {\n",
       "        text-align: right;\n",
       "    }\n",
       "</style>\n",
       "<table border=\"1\" class=\"dataframe\">\n",
       "  <thead>\n",
       "    <tr style=\"text-align: right;\">\n",
       "      <th>share</th>\n",
       "      <th>0</th>\n",
       "      <th>1</th>\n",
       "      <th>2</th>\n",
       "      <th>3</th>\n",
       "      <th>4</th>\n",
       "      <th>5</th>\n",
       "      <th>6</th>\n",
       "      <th>7</th>\n",
       "      <th>8</th>\n",
       "      <th>9</th>\n",
       "      <th>...</th>\n",
       "      <th>228</th>\n",
       "      <th>234</th>\n",
       "      <th>241</th>\n",
       "      <th>243</th>\n",
       "      <th>246</th>\n",
       "      <th>249</th>\n",
       "      <th>252</th>\n",
       "      <th>257</th>\n",
       "      <th>259</th>\n",
       "      <th>267</th>\n",
       "    </tr>\n",
       "  </thead>\n",
       "  <tbody>\n",
       "    <tr>\n",
       "      <th>Amosov</th>\n",
       "      <td>1.0</td>\n",
       "      <td>1.0</td>\n",
       "      <td>2.0</td>\n",
       "      <td>3.0</td>\n",
       "      <td>2.0</td>\n",
       "      <td>4.0</td>\n",
       "      <td>4.0</td>\n",
       "      <td>4.0</td>\n",
       "      <td>6.0</td>\n",
       "      <td>1.0</td>\n",
       "      <td>...</td>\n",
       "      <td>1.0</td>\n",
       "      <td>1.0</td>\n",
       "      <td>1.0</td>\n",
       "      <td>1.0</td>\n",
       "      <td>1.0</td>\n",
       "      <td>2.0</td>\n",
       "      <td>1.0</td>\n",
       "      <td>1.0</td>\n",
       "      <td>2.0</td>\n",
       "      <td>1.0</td>\n",
       "    </tr>\n",
       "    <tr>\n",
       "      <th>Beglov</th>\n",
       "      <td>0.0</td>\n",
       "      <td>0.0</td>\n",
       "      <td>0.0</td>\n",
       "      <td>0.0</td>\n",
       "      <td>0.0</td>\n",
       "      <td>0.0</td>\n",
       "      <td>0.0</td>\n",
       "      <td>0.0</td>\n",
       "      <td>0.0</td>\n",
       "      <td>0.0</td>\n",
       "      <td>...</td>\n",
       "      <td>0.0</td>\n",
       "      <td>0.0</td>\n",
       "      <td>0.0</td>\n",
       "      <td>0.0</td>\n",
       "      <td>0.0</td>\n",
       "      <td>0.0</td>\n",
       "      <td>0.0</td>\n",
       "      <td>0.0</td>\n",
       "      <td>0.0</td>\n",
       "      <td>0.0</td>\n",
       "    </tr>\n",
       "    <tr>\n",
       "      <th>Tihonova</th>\n",
       "      <td>2.0</td>\n",
       "      <td>4.0</td>\n",
       "      <td>5.0</td>\n",
       "      <td>11.0</td>\n",
       "      <td>9.0</td>\n",
       "      <td>15.0</td>\n",
       "      <td>21.0</td>\n",
       "      <td>22.0</td>\n",
       "      <td>35.0</td>\n",
       "      <td>45.0</td>\n",
       "      <td>...</td>\n",
       "      <td>0.0</td>\n",
       "      <td>0.0</td>\n",
       "      <td>0.0</td>\n",
       "      <td>0.0</td>\n",
       "      <td>0.0</td>\n",
       "      <td>0.0</td>\n",
       "      <td>0.0</td>\n",
       "      <td>0.0</td>\n",
       "      <td>0.0</td>\n",
       "      <td>0.0</td>\n",
       "    </tr>\n",
       "  </tbody>\n",
       "</table>\n",
       "<p>3 rows × 214 columns</p>\n",
       "</div>"
      ],
      "text/plain": [
       "share     0    1    2     3    4     5     6     7     8     9    ...  228  \\\n",
       "Amosov    1.0  1.0  2.0   3.0  2.0   4.0   4.0   4.0   6.0   1.0  ...  1.0   \n",
       "Beglov    0.0  0.0  0.0   0.0  0.0   0.0   0.0   0.0   0.0   0.0  ...  0.0   \n",
       "Tihonova  2.0  4.0  5.0  11.0  9.0  15.0  21.0  22.0  35.0  45.0  ...  0.0   \n",
       "\n",
       "share     234  241  243  246  249  252  257  259  267  \n",
       "Amosov    1.0  1.0  1.0  1.0  2.0  1.0  1.0  2.0  1.0  \n",
       "Beglov    0.0  0.0  0.0  0.0  0.0  0.0  0.0  0.0  0.0  \n",
       "Tihonova  0.0  0.0  0.0  0.0  0.0  0.0  0.0  0.0  0.0  \n",
       "\n",
       "[3 rows x 214 columns]"
      ]
     },
     "execution_count": 34,
     "metadata": {},
     "output_type": "execute_result"
    }
   ],
   "source": [
    "from sklearn.metrics import confusion_matrix\n",
    "import matplotlib.pyplot as plt\n",
    "import numpy as np\n",
    "\n",
    "df_table = pd.DataFrame()\n",
    "df_table = df[['Amosov', 'tic']].round(0).groupby('Amosov').count().rename(columns={'tic': 'Amosov'})\n",
    "df_beglov = df[['Beglov_share', 'tic']].round(0).groupby('Beglov_share').count().rename(columns={'tic': 'Beglov'})\n",
    "df_tikhonova = df[['Tihonova_share', 'tic']].round(0).groupby('Tihonova_share').count().rename(columns={'tic': 'Tihonova'})\n",
    "df_table.index = df_table.index.rename('share')\n",
    "df_beglov.index = df_beglov.index.rename('share')\n",
    "df_tikhonova.index = df_tikhonova.index.rename('share')\n",
    "df_table = pd.merge(df_table, df_beglov, how='outer', on='share')\n",
    "df_table = pd.merge(df_table, df_tikhonova, how='outer', on='share')\n",
    "df_table.fillna(0).transpose()"
   ]
  },
  {
   "cell_type": "markdown",
   "metadata": {},
   "source": [
    "# 6) визуализируйте отношение - явка на УИК  →  результат кандидата"
   ]
  },
  {
   "cell_type": "code",
   "execution_count": 35,
   "metadata": {},
   "outputs": [
    {
     "data": {
      "text/plain": [
       "<matplotlib.axes._subplots.AxesSubplot at 0x7f0a29fb61d0>"
      ]
     },
     "execution_count": 35,
     "metadata": {},
     "output_type": "execute_result"
    },
    {
     "data": {
      "image/png": "[encoded data removed]",
      "text/plain": [
       "<Figure size 432x288 with 1 Axes>"
      ]
     },
     "metadata": {
      "needs_background": "light"
     },
     "output_type": "display_data"
    },
    {
     "data": {
      "image/png": "[encoded data removed]",
      "text/plain": [
       "<Figure size 432x288 with 1 Axes>"
      ]
     },
     "metadata": {
      "needs_background": "light"
     },
     "output_type": "display_data"
    },
    {
     "data": {
      "image/png": "[encoded data removed]",
      "text/plain": [
       "<Figure size 432x288 with 1 Axes>"
      ]
     },
     "metadata": {
      "needs_background": "light"
     },
     "output_type": "display_data"
    }
   ],
   "source": [
    "%matplotlib inline\n",
    "\n",
    "df[['turnout', 'Tihonova_share']].plot(kind='scatter', x='turnout', y='Tihonova_share', title='Tihonova')\n",
    "df[['turnout', 'Beglov_share']].plot(kind='scatter', x='turnout', y='Beglov_share', title='Beglov')\n",
    "df[['turnout', 'Amosov_share']].plot(kind='scatter', x='turnout', y='Amosov_share', title='Amosov')"
   ]
  },
  {
   "cell_type": "code",
   "execution_count": null,
   "metadata": {},
   "outputs": [],
   "source": []
  }
 ],
 "metadata": {
  "kernelspec": {
   "display_name": "Python 3",
   "language": "python",
   "name": "python3"
  },
  "language_info": {
   "codemirror_mode": {
    "name": "ipython",
    "version": 3
   },
   "file_extension": ".py",
   "mimetype": "text/x-python",
   "name": "python",
   "nbconvert_exporter": "python",
   "pygments_lexer": "ipython3",
   "version": "3.7.3"
  }
 },
 "nbformat": 4,
 "nbformat_minor": 2
}
